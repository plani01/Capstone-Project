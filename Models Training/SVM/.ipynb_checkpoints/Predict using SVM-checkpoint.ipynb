{
 "cells": [
  {
   "cell_type": "code",
   "execution_count": 6,
   "id": "1610e72b",
   "metadata": {},
   "outputs": [],
   "source": [
    "import numpy as np\n",
    "import matplotlib.pyplot as plt\n",
    "from sklearn.model_selection import train_test_split\n",
    "from sklearn.pipeline import make_pipeline\n",
    "from PIL import Image, ImageDraw\n",
    "import xml.etree.ElementTree as ET # reads xml bounding box annotation \n",
    "import os \n",
    "import cv2\n",
    "import dill"
   ]
  },
  {
   "cell_type": "code",
   "execution_count": 7,
   "id": "525d4733",
   "metadata": {},
   "outputs": [],
   "source": [
    "def Create_Data_Matrix(directory):\n",
    "    i=0\n",
    "    for file in os.listdir(directory):\n",
    "        filename = directory+'/'+file\n",
    "\n",
    "        # Loads image, converts to grayscale and resizes it to a 300x300 image\n",
    "        # !!!!don't have to resize necesarily or even decrease more\n",
    "        y = np.array(Image.open(filename).convert('RGB').resize((300,300)))\n",
    "\n",
    "        # Resizes 300x300 image to 90,000x1 array\n",
    "        col_y = y.ravel()[:,np.newaxis]\n",
    "\n",
    "        # Saves\n",
    "        if i==0:\n",
    "            data = col_y\n",
    "        else:\n",
    "            data = np.hstack((data, col_y))\n",
    "\n",
    "        # Plots image\n",
    "        \"\"\"\n",
    "        plt.figure(figsize=(5,5))\n",
    "        plt.imshow(y, cmap='gray')\n",
    "        plt.xticks([]),plt.yticks([])\n",
    "        plt.show();\n",
    "        \"\"\"\n",
    "        i+=1\n",
    "        \n",
    "    return data\n"
   ]
  },
  {
   "cell_type": "code",
   "execution_count": 8,
   "id": "d8d58467",
   "metadata": {},
   "outputs": [],
   "source": [
    "#Creating the data matrix\n",
    "\n",
    "# overall, may need extra pictures later in dimmed light: this is critical for extra accuracy \n",
    "\n",
    "#using absolute paths in order to save OneDrive Space (don't want it to just fill with training pics)\n",
    "bottleCap_pics=r\"C:/Users/plani/Documents/Design2 Pics/cap/imgs\"\n",
    "bottleCap_labels=r\"C:/Users/plani/Documents/Design2 Pics/cap/labels\"\n",
    "\n",
    "lighter_pics=r\"C:/Users/plani/Documents/Design 1/ML repo/copy/MachineLearning/ML pics/Lighter\"\n",
    "lighter_labels=r\"C:/Users/plani/Documents/Design2 Pics/lighter/labels\"\n",
    "\n",
    "emptyClass_pics = r\"C:/Users/plani/Documents/Design2 Pics/empty\"\n",
    "\n",
    "bottleCap_array = Create_Data_Matrix(bottleCap_pics)\n",
    "lighter_array = Create_Data_Matrix(lighter_pics)\n",
    "emptyClass_array = Create_Data_Matrix(emptyClass_pics)\n"
   ]
  },
  {
   "cell_type": "code",
   "execution_count": 9,
   "id": "670c9b67",
   "metadata": {},
   "outputs": [
    {
     "data": {
      "text/plain": [
       "(476, 270000)"
      ]
     },
     "execution_count": 9,
     "metadata": {},
     "output_type": "execute_result"
    }
   ],
   "source": [
    "X = np.hstack((bottleCap_array, lighter_array, emptyClass_array)).T\n",
    "X.shape"
   ]
  },
  {
   "cell_type": "code",
   "execution_count": 10,
   "id": "b60ed97b",
   "metadata": {},
   "outputs": [
    {
     "data": {
      "text/plain": [
       "(476,)"
      ]
     },
     "execution_count": 10,
     "metadata": {},
     "output_type": "execute_result"
    }
   ],
   "source": [
    "# Integer encoding for the class labels, may want to experiment with one-hot encoding(part of cross validation)\n",
    "t = np.hstack((np.ones(133), 2*np.ones(276),np.zeros(67)))\n",
    "\n",
    "t.shape"
   ]
  },
  {
   "cell_type": "code",
   "execution_count": 11,
   "id": "6453f344",
   "metadata": {},
   "outputs": [
    {
     "data": {
      "text/plain": [
       "((380, 270000), (96, 270000))"
      ]
     },
     "execution_count": 11,
     "metadata": {},
     "output_type": "execute_result"
    }
   ],
   "source": [
    "X =X/255.\n",
    "#fix the random seed. Seed is important for comparing results of different parameters used. Otherwise, diffrent test data will\n",
    "# be used each time: making it much more difficult or impossible for comparrisons\n",
    "\n",
    "# here I need to setup Cross Validation, look back at notes, vary the kernel function for the model below \n",
    "X_train, X_test, t_train, t_test = train_test_split(X, t, test_size=0.2, stratify=t)\n",
    "\n",
    "X_train.shape, X_test.shape"
   ]
  },
  {
   "cell_type": "code",
   "execution_count": 12,
   "id": "56225e3c",
   "metadata": {},
   "outputs": [],
   "source": [
    "dill_filename = \"SVM_classify.pkl\"\n",
    "with open(dill_filename, 'rb') as file:\n",
    "    svm_model = dill.load(file)"
   ]
  },
  {
   "cell_type": "code",
   "execution_count": 13,
   "id": "2a1ff6f5",
   "metadata": {},
   "outputs": [],
   "source": [
    "from sklearn.svm import SVC\n",
    "\n",
    "y_test = svm_model.predict(X_test)"
   ]
  },
  {
   "cell_type": "code",
   "execution_count": 14,
   "id": "2b6c5c21",
   "metadata": {},
   "outputs": [
    {
     "name": "stdout",
     "output_type": "stream",
     "text": [
      "              precision    recall  f1-score   support\n",
      "\n",
      "         0.0       1.00      1.00      1.00        13\n",
      "         1.0       1.00      0.89      0.94        27\n",
      "         2.0       0.95      1.00      0.97        56\n",
      "\n",
      "    accuracy                           0.97        96\n",
      "   macro avg       0.98      0.96      0.97        96\n",
      "weighted avg       0.97      0.97      0.97        96\n",
      "\n"
     ]
    }
   ],
   "source": [
    "from sklearn.metrics import classification_report\n",
    "print(classification_report(t_test, y_test))"
   ]
  }
 ],
 "metadata": {
  "kernelspec": {
   "display_name": "Python 3 (ipykernel)",
   "language": "python",
   "name": "python3"
  },
  "language_info": {
   "codemirror_mode": {
    "name": "ipython",
    "version": 3
   },
   "file_extension": ".py",
   "mimetype": "text/x-python",
   "name": "python",
   "nbconvert_exporter": "python",
   "pygments_lexer": "ipython3",
   "version": "3.11.4"
  }
 },
 "nbformat": 4,
 "nbformat_minor": 5
}
